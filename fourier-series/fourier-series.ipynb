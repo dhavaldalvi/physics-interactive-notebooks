{
 "cells": [
  {
   "cell_type": "code",
   "execution_count": 2,
   "id": "d5678435-2255-4832-85a0-47f1b214dea5",
   "metadata": {},
   "outputs": [],
   "source": [
    "import numpy as np\n",
    "import matplotlib.pyplot as plt\n",
    "import ipywidgets\n",
    "#from IPython.display import display\n",
    "from IPython.display import display, Math\n",
    "#voila --enable_nbextensions=True your_notebook.ipynb"
   ]
  },
  {
   "cell_type": "markdown",
   "id": "9d5bc025-f758-46e5-bbdc-4d549fa2b203",
   "metadata": {},
   "source": [
    "# Sawtooth Waveform\n",
    "\n",
    "$$ f(x) = x \\quad \\text{for} \\quad -\\pi \\leq x \\leq \\pi$$\n",
    "\n",
    "### Fourier Expansion:\n",
    "\n",
    "$$ f(x) = x = 2\\sum_{n=1}^{\\infty} \\dfrac{(-1)^{n+1}\\sin(nx)}{n}$$"
   ]
  },
  {
   "cell_type": "code",
   "execution_count": 3,
   "id": "b93d7bdc-e287-4f51-89c2-a41d1a2e2ce1",
   "metadata": {},
   "outputs": [],
   "source": [
    "def sawtooth_wave(n):\n",
    "    x=np.linspace(-2*np.pi,2*np.pi,1000)\n",
    "    y=[]\n",
    "    for i in x:\n",
    "        z=0.0\n",
    "        for n in range(1,n+1):\n",
    "            z=z+((-1)**(n+1))*(np.sin(n*i))/n\n",
    "        w=2*z\n",
    "        y.append(w)\n",
    "    plt.grid()\n",
    "    plt.xlim(-2*np.pi, 2*np.pi)\n",
    "    plt.ylim(-4,4)\n",
    "    plt.title(f\"n = {n}\")\n",
    "    plt.plot(x,y)\n",
    "    plt.show()"
   ]
  },
  {
   "cell_type": "code",
   "execution_count": 4,
   "id": "fe2d654a-1d2d-4d5f-99fb-367eb4ec9ee6",
   "metadata": {},
   "outputs": [
    {
     "data": {
      "application/vnd.jupyter.widget-view+json": {
       "model_id": "02db559db3ea4fad86461c00123e1cdc",
       "version_major": 2,
       "version_minor": 0
      },
      "text/plain": [
       "interactive(children=(IntSlider(value=50, description='n', min=1), Output()), _dom_classes=('widget-interact',…"
      ]
     },
     "metadata": {},
     "output_type": "display_data"
    }
   ],
   "source": [
    "swatooth_wave = ipywidgets.interact(sawtooth_wave, n = (1,100,1))"
   ]
  },
  {
   "cell_type": "markdown",
   "id": "cc0d87a7-c6d7-4c88-830f-e42a02ecf0f3",
   "metadata": {},
   "source": [
    "# Square Waveform\n",
    "\n",
    "$$ f(x) = \\Big\\{\n",
    "\\begin{array}\n",
    "  {}\\;\\;0\\quad \\text{for} \\quad -\\pi \\leq x < 0\\\\\n",
    "  h \\quad \\text{for} \\quad 0 \\leq x \\leq \\pi \n",
    "\\end{array} $$\n",
    "\n",
    "### Fourier Expansion:\n",
    "\n",
    "$$ f(x) = \\dfrac{h}{2} + \\dfrac{2h}{\\pi}\\sum_{n=1}^{\\infty}\\dfrac{\\sin(nx)}{n} \\quad \\text{where} \\quad n = 1,3,5,\\dots$$"
   ]
  },
  {
   "cell_type": "code",
   "execution_count": 5,
   "id": "c54a9e39-0939-4b02-bdd8-47ffc60c1a23",
   "metadata": {},
   "outputs": [],
   "source": [
    "def square_wave(n):\n",
    "    height = 1\n",
    "    width = np.pi\n",
    "    x = np.linspace(-2*np.pi,2*np.pi,1000)\n",
    "    y = []\n",
    "    for i in x:\n",
    "        z=0.0\n",
    "        for j in range(1,n,2):\n",
    "            z=z+np.sin(i*j)/j\n",
    "        w=height/2 + 2*height*z/width\n",
    "        y.append(w)\n",
    "    plt.grid()\n",
    "    plt.xlim(-2*np.pi, 2*np.pi)\n",
    "    plt.ylim(-0.5,1.5)\n",
    "    plt.title(f\"n = {n}\")\n",
    "    plt.plot(x,y)\n",
    "    #plt.plot(x,np.sin(x)/2+height/2)\n",
    "    plt.show()  "
   ]
  },
  {
   "cell_type": "code",
   "execution_count": 6,
   "id": "e212e3f1-603b-46ab-a031-65ffeba60607",
   "metadata": {},
   "outputs": [
    {
     "data": {
      "application/vnd.jupyter.widget-view+json": {
       "model_id": "68cabc38f1614ee5b35b1c9776ccafc8",
       "version_major": 2,
       "version_minor": 0
      },
      "text/plain": [
       "interactive(children=(IntSlider(value=51, description='n', min=3, step=2), Output()), _dom_classes=('widget-in…"
      ]
     },
     "metadata": {},
     "output_type": "display_data"
    }
   ],
   "source": [
    "square_wave = ipywidgets.interact(square_wave, n = (3,100,2))"
   ]
  },
  {
   "cell_type": "markdown",
   "id": "6fc2c4a9-f7cc-45a8-ae8c-1030b7b3e630",
   "metadata": {},
   "source": [
    "# Parabola Waveform\n",
    "\n",
    "$$ f(x) = x^{2} \\quad \\text{for} \\quad -\\pi \\leq x \\leq \\pi  $$\n",
    "\n",
    "### Fourier Expansion:\n",
    "\n",
    "$$ f(x) = \\dfrac{\\pi^{2}}{3} + 4\\sum_{n=1}^{\\infty}\\dfrac{(-1)^{n}cos(nx)}{n^{2}}$$"
   ]
  },
  {
   "cell_type": "code",
   "execution_count": 7,
   "id": "a2ff2e20-58e3-492c-8299-ab678fce8f2f",
   "metadata": {},
   "outputs": [],
   "source": [
    "def parabolic_wave(n):\n",
    "    x = np.linspace(-2*np.pi,2*np.pi,1000)\n",
    "    y = []\n",
    "    for i in x:\n",
    "        z=0.0\n",
    "        for j in range(1,n):\n",
    "            z=z+((-1)**(j))*np.cos(i*j)/j**2\n",
    "        w=(np.pi**3)/3 + 4*z\n",
    "        y.append(w)\n",
    "    plt.grid()\n",
    "    plt.xlim(-2*np.pi, 2*np.pi)\n",
    "    plt.ylim(5,18)\n",
    "    plt.title(f\"n = {n}\")\n",
    "    plt.plot(x,y)\n",
    "    #plt.plot(x,np.sin(x)/2+height/2)\n",
    "    plt.show() "
   ]
  },
  {
   "cell_type": "code",
   "execution_count": 8,
   "id": "d523882a-70b6-47f4-af55-bc9d6bed2f19",
   "metadata": {},
   "outputs": [
    {
     "data": {
      "application/vnd.jupyter.widget-view+json": {
       "model_id": "787f6a842db7465496a44e0a603da094",
       "version_major": 2,
       "version_minor": 0
      },
      "text/plain": [
       "interactive(children=(IntSlider(value=26, description='n', max=50, min=2), Output()), _dom_classes=('widget-in…"
      ]
     },
     "metadata": {},
     "output_type": "display_data"
    }
   ],
   "source": [
    "parabolic_wave = ipywidgets.interact(parabolic_wave, n = (2,50,1))"
   ]
  },
  {
   "cell_type": "markdown",
   "id": "7a58dd3f-7aea-45cd-a6a8-d76c0e030dce",
   "metadata": {},
   "source": [
    "# Full-Wave Rectifier\n",
    "\n",
    "$$ f(x) = \\Big\\{\n",
    "\\begin{array}\n",
    "  \\;\\sin(x)\\quad \\text{for} \\quad 0 \\leq x \\leq \\pi\\\\\n",
    "  -\\sin(x) \\quad \\text{for} \\quad -\\pi \\leq x \\leq 0 \n",
    "\\end{array} $$\n",
    "\n",
    "### Fourier Expansion:\n",
    "\n",
    "$$ f(x) = \\dfrac{2}{\\pi} - \\dfrac{4}{\\pi}\\sum_{n=0}^{\\infty}\\dfrac{\\cos(nx)}{n^{2}-1} \\quad \\text{where} \\quad n = 0,2,4,\\dots$$"
   ]
  },
  {
   "cell_type": "code",
   "execution_count": 9,
   "id": "bd0085bb-3e30-4d4d-9723-b365d45cd602",
   "metadata": {},
   "outputs": [],
   "source": [
    "def full_wave_rectifier(n):\n",
    "    x = np.linspace(-2*np.pi,2*np.pi,1000)\n",
    "    y = []\n",
    "    for i in x:\n",
    "        z=0.0\n",
    "        for j in range(0,n,2):\n",
    "            z=z+np.cos(i*j)/(j**2-1)\n",
    "        w= 2/np.pi - 4*z/np.pi\n",
    "        y.append(w)\n",
    "    plt.grid()\n",
    "    plt.xlim(-2*np.pi, 2*np.pi)\n",
    "    plt.ylim(1,2.5)\n",
    "    plt.title(f\"n = {n}\")\n",
    "    plt.plot(x,y)\n",
    "    #plt.plot(x,np.sin(x)/2+height/2)\n",
    "    plt.show()"
   ]
  },
  {
   "cell_type": "code",
   "execution_count": 10,
   "id": "ec6d3cce-c5ab-41d9-856a-da769b3eef9e",
   "metadata": {},
   "outputs": [
    {
     "data": {
      "application/vnd.jupyter.widget-view+json": {
       "model_id": "8e9fde6e366a42a797de228e2aa1e23a",
       "version_major": 2,
       "version_minor": 0
      },
      "text/plain": [
       "interactive(children=(IntSlider(value=51, description='n', min=3), Output()), _dom_classes=('widget-interact',…"
      ]
     },
     "metadata": {},
     "output_type": "display_data"
    }
   ],
   "source": [
    "full_wave_rectifier = ipywidgets.interact(full_wave_rectifier, n = (3,100,1))"
   ]
  },
  {
   "cell_type": "markdown",
   "id": "c86710ad-5ffe-4d51-aedc-94bff581a394",
   "metadata": {},
   "source": [
    "# Triangle Waveform\n",
    "\n",
    "$$ f(x) = |x| \\quad \\text{for} \\quad -\\pi \\leq x \\leq \\pi $$\n",
    "\n",
    "### Fourier Expansion:\n",
    "\n",
    "$$ f(x) = \\dfrac{\\pi}{2} - \\dfrac{4}{\\pi}\\sum_{n=0}^{\\infty}\\dfrac{\\cos(nx)}{n^{2}} \\quad \\text{where} \\quad n = 1,3,5,\\dots$$"
   ]
  },
  {
   "cell_type": "code",
   "execution_count": 11,
   "id": "4dce82ad-c3ff-4b05-a050-98c05afbb531",
   "metadata": {},
   "outputs": [],
   "source": [
    "def triangular_wave(n):\n",
    "    x = np.linspace(-2*np.pi,2*np.pi,1000)\n",
    "    y = []\n",
    "    for i in x:\n",
    "        z=0.0\n",
    "        for j in range(1,n,2):\n",
    "            z=z+4*np.cos(i*j)/(np.pi*j**2)\n",
    "        w= np.pi/2 - z\n",
    "        y.append(w)\n",
    "    plt.grid()\n",
    "    plt.xlim(-2*np.pi, 2*np.pi)\n",
    "    plt.ylim(-.50,3.5)\n",
    "    plt.title(f\"n = {n}\")\n",
    "    plt.plot(x,y)\n",
    "    #plt.plot(x,np.sin(x)/2+height/2)\n",
    "    plt.show()"
   ]
  },
  {
   "cell_type": "code",
   "execution_count": 12,
   "id": "1346a1cd-4ce5-4e20-a9ee-120f1361ad8e",
   "metadata": {},
   "outputs": [
    {
     "data": {
      "application/vnd.jupyter.widget-view+json": {
       "model_id": "2b56c3a1897b4e39885e8de49f43f932",
       "version_major": 2,
       "version_minor": 0
      },
      "text/plain": [
       "interactive(children=(IntSlider(value=51, description='n', min=2), Output()), _dom_classes=('widget-interact',…"
      ]
     },
     "metadata": {},
     "output_type": "display_data"
    }
   ],
   "source": [
    "triangular_wave = ipywidgets.interact(triangular_wave, n = (2,100,1))"
   ]
  },
  {
   "cell_type": "code",
   "execution_count": null,
   "id": "bcbfcae2-b825-4916-9e8b-875d58e24658",
   "metadata": {},
   "outputs": [],
   "source": []
  },
  {
   "cell_type": "code",
   "execution_count": null,
   "id": "d78e2fee-9af6-48ed-9433-3cd208e6bbf4",
   "metadata": {},
   "outputs": [],
   "source": []
  },
  {
   "cell_type": "code",
   "execution_count": null,
   "id": "aa8c9eed-28f4-4039-95d4-48d29fd01920",
   "metadata": {},
   "outputs": [],
   "source": []
  }
 ],
 "metadata": {
  "kernelspec": {
   "display_name": "Python 3 (ipykernel)",
   "language": "python",
   "name": "python3"
  },
  "language_info": {
   "codemirror_mode": {
    "name": "ipython",
    "version": 3
   },
   "file_extension": ".py",
   "mimetype": "text/x-python",
   "name": "python",
   "nbconvert_exporter": "python",
   "pygments_lexer": "ipython3",
   "version": "3.12.7"
  }
 },
 "nbformat": 4,
 "nbformat_minor": 5
}
